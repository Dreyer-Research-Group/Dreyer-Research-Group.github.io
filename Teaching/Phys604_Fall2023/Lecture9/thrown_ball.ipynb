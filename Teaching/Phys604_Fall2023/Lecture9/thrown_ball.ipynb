{
 "cells": [
  {
   "cell_type": "markdown",
   "metadata": {},
   "source": [
    "# Boundary value problem example: A ball thrown in the air\n",
    "\n",
    "Consider a ball thrown in the air. The height of the ball $x$ is given by (neglecting air friction): \n",
    "$$\\frac{d^2x}{dt^2}=-g.$$\n",
    "As default initial condition, we will take is $x(0)=0$, and we will try to find the initial velocity such that $x(10) = 0$. We first do the normal trick to turn the second-order ODE into two coupled first-order ODEs:\n",
    "$$\\frac{dx}{dt}=v, \\; \\; \\; \\frac{dv}{dt}=-g.$$\n",
    "\n",
    "This example was taken from Newman Sec. 8.6."
   ]
  },
  {
   "cell_type": "code",
   "execution_count": 1,
   "metadata": {},
   "outputs": [],
   "source": [
    "import numpy as np\n",
    "\n",
    "\n",
    "class boundaryValue:\n",
    "    '''Class for solving our boundary value problem of a thrown ball.'''\n",
    "\n",
    "    def __init__(self,t0=0.0,x0=0.0,v_guess=[1.0,5.0],tf=10.0,nRKsteps=1000,accuracy=1e-10):\n",
    "        self.g=9.81 # Acceleration of gravity in m/s^2\n",
    "        self.x0=x0\n",
    "        self.accuracy=accuracy\n",
    "        self.rkPoints = np.linspace(t0,tf,nRKsteps)\n",
    "        self.deltaT=(tf-t0)/nRKsteps\n",
    "        \n",
    "        self.v0=self.secant_root(self.rk4_height,v_guess[0],v_guess[1],accuracy)\n",
    "        \n",
    "    def secant_root(self,func,v0,v1,accuracy):\n",
    "        '''Calculate the root with the Secant method'''\n",
    "        maxSteps=1000 # Limit the number of steps in case of divergence\n",
    "        \n",
    "        for step in range(maxSteps):\n",
    "        \n",
    "            if self.first_derivative(func,v0,v1) < 1.0e-20:\n",
    "                raise('Derivative is zero, try different initial guesses.')\n",
    "                \n",
    "            else:\n",
    "                v2=v1-func(v1)/self.first_derivative(func,v0,v1)\n",
    "\n",
    "            if abs(v2) < 1.0e-16 and  abs(v2-v1) < accuracy:\n",
    "                return v2\n",
    "\n",
    "\n",
    "            elif abs(v2-v1) < abs(v2*accuracy):\n",
    "                return v2\n",
    "            \n",
    "            v0=v1\n",
    "            v1=v2\n",
    "            \n",
    "        # If we end up here, out root did not converge\n",
    "        raise('Root did not converge')\n",
    "        \n",
    "    def first_derivative(self,func,v0,v1):\n",
    "        '''Caluclate the numerical first derivative of the function''' \n",
    "        return (func(v1)-func(v0))/(v1-v0)\n",
    "        \n",
    "    def rk4_height(self,v):\n",
    "        '''Evaluating the height for a given velocity using the RK method'''\n",
    "        r=np.array([self.x0,v])\n",
    "        dt=self.deltaT\n",
    "        \n",
    "        for time in self.rkPoints:\n",
    "            k1=dt*self.f(r)\n",
    "            k2=dt*self.f(r+0.5*k1)\n",
    "            k3=dt*self.f(r+0.5*k2)\n",
    "            k4=dt*self.f(r+k3)\n",
    "            r+=(k1+2.0*k2+2.0*k3+k4)/6.0\n",
    "        \n",
    "        return r[0]    \n",
    "        \n",
    "    def f(self,r):\n",
    "        '''RHS for Runge-Kutta method, two variables'''\n",
    "        x=r[0]\n",
    "        v=r[1]\n",
    "        fx=v\n",
    "        fy=-self.g\n",
    "        return np.array([fx,fy])\n",
    "           "
   ]
  },
  {
   "cell_type": "code",
   "execution_count": 4,
   "metadata": {},
   "outputs": [
    {
     "name": "stdout",
     "output_type": "stream",
     "text": [
      "49.050000000000225\n",
      "-1.5487611193520934e-14\n"
     ]
    }
   ],
   "source": [
    "ballThrow=boundaryValue()\n",
    "print(ballThrow.v0)\n",
    "\n",
    "print(ballThrow.rk4_height(ballThrow.v0))"
   ]
  },
  {
   "cell_type": "code",
   "execution_count": null,
   "metadata": {},
   "outputs": [],
   "source": []
  },
  {
   "cell_type": "code",
   "execution_count": null,
   "metadata": {},
   "outputs": [],
   "source": []
  }
 ],
 "metadata": {
  "kernelspec": {
   "display_name": "Python 3 (ipykernel)",
   "language": "python",
   "name": "python3"
  },
  "language_info": {
   "codemirror_mode": {
    "name": "ipython",
    "version": 3
   },
   "file_extension": ".py",
   "mimetype": "text/x-python",
   "name": "python",
   "nbconvert_exporter": "python",
   "pygments_lexer": "ipython3",
   "version": "3.10.12"
  }
 },
 "nbformat": 4,
 "nbformat_minor": 2
}
