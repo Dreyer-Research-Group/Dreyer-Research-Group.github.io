{
 "cells": [
  {
   "cell_type": "code",
   "execution_count": 1,
   "metadata": {},
   "outputs": [],
   "source": [
    "# Libraries, etc.\n",
    "import numpy as np\n",
    "import time"
   ]
  },
  {
   "cell_type": "code",
   "execution_count": 2,
   "metadata": {},
   "outputs": [],
   "source": [
    "# Laplace Expansion\n",
    "\n",
    "def laplace_det(M):\n",
    "    global total_mult\n",
    "    \n",
    "    # 1x1 matrix\n",
    "    if M.shape[0] == 1: \n",
    "        return M[0][0]\n",
    "    \n",
    "    total = 0\n",
    "    for column in range(M.shape[0]):\n",
    "        s = 1 if column % 2 == 0 else -1 # Get the alternating signs right\n",
    "        K=np.delete(np.delete(M,0,0),column,1) # Get the submatrix\n",
    "        \n",
    "        total_mult+=1 # Count the number of multiplications\n",
    "        total += s * M[0,column] * laplace_det(K) # Recursive call, to get further submatricies\n",
    "  \n",
    "    return total\n",
    "\n",
    "def laplace_expand(nMatrix):\n",
    "    global total_mult\n",
    "    total_mult=0\n",
    "\n",
    "    random_M=np.random.rand(nMatrix,nMatrix)\n",
    "    \n",
    "    print('Matrix: ', random_M)\n",
    "\n",
    "    print('Determinant:', laplace_det(random_M))\n",
    "    \n",
    "    print('Number of multiplications:',total_mult)\n",
    "\n",
    "    return"
   ]
  },
  {
   "cell_type": "code",
   "execution_count": null,
   "metadata": {},
   "outputs": [],
   "source": [
    "laplace_expand(10)"
   ]
  },
  {
   "cell_type": "code",
   "execution_count": 7,
   "metadata": {},
   "outputs": [],
   "source": [
    "# Cramer's Rule\n",
    "\n",
    "def cramers_rule(M,b):\n",
    "    \n",
    "    x=np.zeros(M.shape[1])\n",
    "    for column in range(M.shape[1]):\n",
    "        Mi=np.copy(M)\n",
    "        Mi[:,column]=b\n",
    "        x[column]=np.linalg.det(Mi)/np.linalg.det(M)\n",
    "        \n",
    "    return x\n",
    "\n",
    "def cramers_rule_laplace(M,b):\n",
    "    \n",
    "    x=np.zeros(M.shape[1])\n",
    "    for column in range(M.shape[1]):\n",
    "        Mi=np.copy(M)\n",
    "        Mi[:,column]=b\n",
    "        x[column]=laplace_det(Mi)/laplace_det(M)\n",
    "        \n",
    "    return x\n"
   ]
  },
  {
   "cell_type": "code",
   "execution_count": 10,
   "metadata": {},
   "outputs": [
    {
     "name": "stdout",
     "output_type": "stream",
     "text": [
      "x from Cramer's rule: [ 0.03247112  0.63835026 -0.46127692 -0.63881287  1.04896196  0.90728097\n",
      " -0.40233124]\n",
      "Time for Cramer's rule: 0.0025760240023373626\n",
      "\n",
      "numpy inverse and matmul: [ 0.03247112  0.63835026 -0.46127692 -0.63881287  1.04896196  0.90728097\n",
      " -0.40233124]\n",
      "Time for numpy inverse and matmul: 0.00850440000067465\n",
      "\n",
      "x from Cramer's rule (Laplace exp.): [ 0.03247112  0.63835026 -0.46127692 -0.63881287  1.04896196  0.90728097\n",
      " -0.40233124]\n",
      "Time for Cramer's rule (Laplace exp.): 1.1106760699985898\n"
     ]
    }
   ],
   "source": [
    "nMatrix=7\n",
    "random_M=np.random.rand(nMatrix,nMatrix)\n",
    "random_b=np.random.rand(nMatrix)\n",
    "\n",
    "start = time.perf_counter()\n",
    "print(\"x from Cramer's rule:\", cramers_rule(random_M,random_b))\n",
    "end = time.perf_counter()\n",
    "print(\"Time for Cramer's rule:\", end - start)\n",
    "\n",
    "print( )\n",
    "\n",
    "start = time.perf_counter()\n",
    "print(\"numpy inverse and matmul:\",np.matmul(np.linalg.inv(random_M),random_b))\n",
    "end = time.perf_counter()\n",
    "print(\"Time for numpy inverse and matmul:\", end - start)\n",
    "\n",
    "print( )\n",
    "\n",
    "start = time.perf_counter()\n",
    "print(\"x from Cramer's rule (Laplace exp.):\", cramers_rule_laplace(random_M,random_b))\n",
    "end = time.perf_counter()\n",
    "print(\"Time for Cramer's rule (Laplace exp.):\", end - start)\n"
   ]
  },
  {
   "cell_type": "code",
   "execution_count": null,
   "metadata": {},
   "outputs": [],
   "source": []
  }
 ],
 "metadata": {
  "kernelspec": {
   "display_name": "Python 3 (ipykernel)",
   "language": "python",
   "name": "python3"
  },
  "language_info": {
   "codemirror_mode": {
    "name": "ipython",
    "version": 3
   },
   "file_extension": ".py",
   "mimetype": "text/x-python",
   "name": "python",
   "nbconvert_exporter": "python",
   "pygments_lexer": "ipython3",
   "version": "3.10.12"
  }
 },
 "nbformat": 4,
 "nbformat_minor": 2
}
