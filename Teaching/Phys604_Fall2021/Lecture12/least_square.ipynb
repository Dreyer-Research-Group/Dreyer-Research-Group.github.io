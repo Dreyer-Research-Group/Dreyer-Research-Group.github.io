{
 "cells": [
  {
   "cell_type": "code",
   "execution_count": 68,
   "metadata": {},
   "outputs": [],
   "source": [
    "# Imports\n",
    "import numpy as np\n",
    "import matplotlib.pyplot as plt"
   ]
  },
  {
   "attachments": {},
   "cell_type": "markdown",
   "metadata": {},
   "source": [
    "# Linear regression\n",
    "\n",
    "As we discussed in class, there is a closed form solution for the coefficients used in linear regression. If the linear function is give by $Y(x_i,\\{a_0,a_1\\})=a_0+a_1x$, then the coeeficients are\n",
    "$$a_0=\\frac{\\Sigma_y\\Sigma_{x^2}-\\Sigma_x\\Sigma_{xy}}{S\\Sigma_{x^2}-(\\Sigma_x)^2}, \\qquad a_1=\\frac{S\\Sigma_{xy}-\\Sigma_{y}\\Sigma_x}{S\\Sigma_{x^2}-(\\Sigma_x)^2},$$\n",
    "where,\n",
    "$$S\\equiv \\sum_{i=0}^{N-1} \\frac{1}{\\sigma_i^2}, \\quad\n",
    "\\Sigma_x\\equiv \\sum_{i=0}^{N-1} \\frac{x_i}{\\sigma_i^2}, \\quad\n",
    "\\Sigma_y\\equiv \\sum_{i=0}^{N-1} \\frac{y_i}{\\sigma_i^2}, \\quad\n",
    "\\Sigma_{x^2}\\equiv \\sum_{i=0}^{N-1} \\frac{x_i^2}{\\sigma_i^2}, \\quad\n",
    "\\Sigma_{xy}\\equiv \\sum_{i=0}^{N-1} \\frac{x_iy_i}{\\sigma_i^2}.$$\n",
    "In addition, we can calculate the $\\chi^2$ as\n",
    "$$\\chi^2(a_0,a_1)=\\sum_{i=0}^{N-1}\\frac{[a_0+a_1x_i-y_i]^2}{\\sigma_i^2},$$\n",
    "and the variance in the coefficients as:\n",
    "$$\\sigma_{a_0}=\\sqrt{\\frac{\\Sigma_{x^2}}{S\\Sigma_{x^2}-(\\Sigma_x)^2}}, \\qquad \\sigma_{a_1}=\\sqrt{\\frac{S}{S\\Sigma_{x^2}-(\\Sigma_x)^2}}.$$\n",
    "\n",
    "Therefore, a program for linear regression simply involves copying these equations into code:"
   ]
  },
  {
   "cell_type": "code",
   "execution_count": 69,
   "metadata": {},
   "outputs": [],
   "source": [
    "def linear_reg(x,y,sig):\n",
    "    '''Linear regression'''\n",
    "    \n",
    "    S=np.sum(1.0/(sig**2))\n",
    "    SigX=np.sum(x/(sig**2))\n",
    "    SigY=np.sum(y/(sig**2))\n",
    "    SigX2=np.sum(x**2/(sig**2))\n",
    "    SigXY=np.sum(x*y/(sig**2))\n",
    "\n",
    "    # Coefficients\n",
    "    a0=(SigY*SigX2-SigX*SigXY)/(S*SigX2-SigX**2)\n",
    "    a1=(S*SigXY-SigY*SigX)/(S*SigX2-SigX**2)\n",
    "    \n",
    "    # Errors in coefficients\n",
    "    sigA0=np.sqrt(SigX2/(S*SigX2-SigX**2))\n",
    "    sigA1=np.sqrt(S/(S*SigX2-SigX**2))\n",
    "    \n",
    "    # The fitted linear function\n",
    "    Yreg=a0+a1*x\n",
    "    \n",
    "    # \\chi^2\n",
    "    chi2=np.sum(np.sum((Yreg-y)**2/sig**2))\n",
    "    \n",
    "    return Yreg,a0,sigA0,a1,sigA1,chi2"
   ]
  },
  {
   "cell_type": "markdown",
   "metadata": {},
   "source": [
    "## Example: A linear function with noise\n",
    "\n",
    "We can test our program on a linear function with some random noise included. Note that the results will be slightly different every time we run because of the random noise."
   ]
  },
  {
   "cell_type": "code",
   "execution_count": 86,
   "metadata": {},
   "outputs": [
    {
     "name": "stdout",
     "output_type": "stream",
     "text": [
      "Y =  1.3899873142021708 (+/-  0.5573044368153888 ) +  0.5174563738917293 (+/- 0.019207841535960987 ) x\n",
      "chi^2 =  50.90935895124326 , N-M = 48\n"
     ]
    },
    {
     "data": {
      "image/png": "[encoded data removed]",
      "text/plain": [
       "<Figure size 360x360 with 1 Axes>"
      ]
     },
     "metadata": {
      "needs_background": "light"
     },
     "output_type": "display_data"
    }
   ],
   "source": [
    "# x points\n",
    "pts = 50\n",
    "x=np.linspace(0,50,pts)\n",
    "\n",
    "# Level of randomness. Note that \\sigma is constant for all i\n",
    "alpha=2.0\n",
    "sig=np.ones(pts)*alpha\n",
    "\n",
    "# Linear function\n",
    "c0 = 2.0\n",
    "c1 = 0.5\n",
    "y=c0+c1*x\n",
    "\n",
    "# Add some noise (randn are random numbers chosen from a Gaussian distribution)\n",
    "alphaR=alpha*(np.random.randn(pts))\n",
    "y+=alphaR\n",
    "    \n",
    "# Perform the linear regression\n",
    "Yreg,a0,sigA0,a1,sigA1,chi2=linear_reg(x,y,sig)\n",
    "\n",
    "# Print out the fitted equation, errors in coefficients, and \\chi^2\n",
    "print('Y = ',a0,'(+/- ',sigA0,') + ',a1,'(+/-',sigA1,') x')    \n",
    "print('chi^2 = ',chi2, ', N-M = 48')\n",
    "\n",
    "# Plot:\n",
    "fig1,ax1=plt.subplots(figsize=(5,5))\n",
    "\n",
    "ax1.errorbar(x,y,yerr=sig,fmt='o',ecolor='r')\n",
    "ax1.plot(x,Yreg,'-g')\n",
    "\n",
    "plt.savefig('lin_reg.pdf',bbox_inches='tight')\n",
    "plt.show()"
   ]
  },
  {
   "cell_type": "markdown",
   "metadata": {},
   "source": [
    "## Example: A nonlinear function\n",
    "\n",
    "Note that in the previous example, $\\chi^2\\simeq N-M$. This suggests that our function is a good representation of the data. What if we try to fit a line to less appropriate function? Let's try a parabola:"
   ]
  },
  {
   "cell_type": "code",
   "execution_count": 87,
   "metadata": {},
   "outputs": [
    {
     "name": "stdout",
     "output_type": "stream",
     "text": [
      "Y =  10.826639774232593 (+/-  0.5573044368153888 ) +  -0.5263396989506838 (+/- 0.019207841535960987 ) x\n",
      "chi^2 =  205.33357355282305 , N-M = 48\n"
     ]
    },
    {
     "data": {
      "image/png": "[encoded data removed]",
      "text/plain": [
       "<Figure size 360x360 with 1 Axes>"
      ]
     },
     "metadata": {
      "needs_background": "light"
     },
     "output_type": "display_data"
    }
   ],
   "source": [
    "# x points\n",
    "pts = 50\n",
    "x=np.linspace(0,50,pts)\n",
    "\n",
    "# Level of randomness. Note that \\sigma is constant for all i\n",
    "alpha=2.0\n",
    "sig=np.ones(pts)*alpha\n",
    "\n",
    "# Quadratic function\n",
    "c0 = 2.0\n",
    "c1 = 0.5\n",
    "c2 = -0.02\n",
    "y=c0+c1*x+c2*x**2\n",
    "\n",
    "# Add some noise (randn are random numbers chosen from a Gaussian distribution)\n",
    "alphaR=alpha*(np.random.randn(pts))\n",
    "y+=alphaR\n",
    "    \n",
    "# Perform the linear regression\n",
    "Yreg,a0,sigA0,a1,sigA1,chi2=linear_reg(x,y,sig)\n",
    "\n",
    "# Print out the fitted equation, errors in coefficients, and \\chi^2\n",
    "print('Y = ',a0,'(+/- ',sigA0,') + ',a1,'(+/-',sigA1,') x')    \n",
    "print('chi^2 = ',chi2, ', N-M = 48')\n",
    "\n",
    "# Plot:\n",
    "fig1,ax1=plt.subplots(figsize=(5,5))\n",
    "\n",
    "ax1.errorbar(x,y,yerr=sig,fmt='o',ecolor='r')\n",
    "ax1.plot(x,Yreg,'-g')\n",
    "\n",
    "plt.savefig('lin_reg_quad.pdf',bbox_inches='tight')\n",
    "plt.show()"
   ]
  },
  {
   "cell_type": "markdown",
   "metadata": {},
   "source": [
    "Note that $\\chi^2 \\gg N-M$, indicating that our function is not an appropriate representation of the function.\n",
    "\n",
    "# General least squares\n",
    "\n",
    "We now turn to the general procedure to do a least-squares fit. As discussed in class, we define the function to be fit as a linear combination of basis functions $Y$. In the example below, we take this to be polynomials up to some order. To find the coefficients, we need to generate the design matrix\n",
    "$$\\textbf{A}=\\begin{bmatrix} \n",
    "\\frac{Y_0(x_0)}{\\sigma_0} & \\frac{Y_1(x_0)}{\\sigma_0} & \\dots \\\\\n",
    "\\frac{Y_0(x_1)}{\\sigma_1} & \\frac{Y_1(x_1)}{\\sigma_1} & \\dots \\\\\n",
    "\\vdots & \\vdots & \\ddots \\\\\n",
    "\\end{bmatrix},$$\n",
    "and then solve the equation\n",
    "$(\\textbf{A}^{\\text{T}}\\textbf{A})\\textbf{a}=\\textbf{A}^{\\text{T}}\\textbf{b},$\n",
    "where $b_i=y_i/\\sigma_i$."
   ]
  },
  {
   "cell_type": "code",
   "execution_count": 80,
   "metadata": {},
   "outputs": [],
   "source": [
    "def polynomial_reg(x,y,polyOrder,sig):\n",
    "    '''Least squares polynomial fitting'''\n",
    "    \n",
    "    # Coefficients is one plus the order of the polynomial \n",
    "    nPoly=polyOrder+1\n",
    "    nPts=len(x)\n",
    "    A=np.zeros((nPts,nPoly))\n",
    " \n",
    "    # Populate the Design matrix\n",
    "    for j in range(nPoly):\n",
    "        A[:,j]=x**j/sig\n",
    "    \n",
    "    ATb=np.matmul(A.T,y/sig)\n",
    "    ATA=np.matmul(A.T,A)\n",
    "    \n",
    "    # TEST: Check how ill conditioned A^T A is \n",
    "    #print(np.linalg.cond(ATA))\n",
    "    \n",
    "    # For now use numpy:\n",
    "    a=np.linalg.solve(ATA,ATb)\n",
    "        \n",
    "    # Construct the polynomial\n",
    "    Yreg=np.zeros(nPts)\n",
    "    for j in range(nPoly):\n",
    "        Yreg+=a[j]*x**j\n",
    "        \n",
    "    # \\chi^2\n",
    "    chi2=np.sum(np.sum((Yreg-y)**2/sig**2))\n",
    "    \n",
    "    # Error in coefficients\n",
    "    sigA=np.sqrt(np.diagonal(np.linalg.inv(ATA)))\n",
    "    \n",
    "    return Yreg,a,sigA,chi2\n",
    "\n",
    "def print_poly(a,sigA,prec):\n",
    "    '''Rough function to print out polynomials'''\n",
    "    \n",
    "    nPoly=len(a)\n",
    "    print('Y = ',end='')\n",
    "    \n",
    "    for pol in range(nPoly):\n",
    "        print(np.round(a[pol],prec),'(+/-',np.round(sigA[pol],prec),')',end='')\n",
    "        \n",
    "        if pol > 0:\n",
    "            if pol == 1:\n",
    "                print('x',end='')\n",
    "            else:\n",
    "                print('x^',pol,end='')\n",
    "        if pol != nPoly-1:\n",
    "            print('+',end='')\n",
    "        else:\n",
    "            print('\\n')\n",
    "       "
   ]
  },
  {
   "cell_type": "markdown",
   "metadata": {},
   "source": [
    "## Example: Linear function\n",
    "\n",
    "Lets test out polynomial regression program on the linear function of the form used previously:"
   ]
  },
  {
   "cell_type": "code",
   "execution_count": 81,
   "metadata": {},
   "outputs": [
    {
     "name": "stdout",
     "output_type": "stream",
     "text": [
      "Y = 1.82147 (+/- 0.5573 )+0.49118 (+/- 0.01921 )x\n",
      "\n",
      "chi^2 =  46.26849494735951 , N-M = 48\n"
     ]
    },
    {
     "data": {
      "image/png": "[encoded data removed]",
      "text/plain": [
       "<Figure size 360x360 with 1 Axes>"
      ]
     },
     "metadata": {
      "needs_background": "light"
     },
     "output_type": "display_data"
    }
   ],
   "source": [
    "# x points\n",
    "pts = 50\n",
    "x=np.linspace(0,50,pts)\n",
    "\n",
    "# Level of randomness. Note that \\sigma is constant for all i\n",
    "alpha=2.0\n",
    "sig=np.ones(pts)*alpha\n",
    "\n",
    "# Linear function\n",
    "c0 = 2.0\n",
    "c1 = 0.5\n",
    "y=c0+c1*x\n",
    "\n",
    "# Add some noise (randn are random numbers chosen from a Gaussian distribution)\n",
    "alphaR=alpha*(np.random.randn(pts))\n",
    "y+=alphaR\n",
    "    \n",
    "# Perform the regression\n",
    "polyOrder=1\n",
    "Yreg,a,sigA,chi2=polynomial_reg(x,y,polyOrder,sig)\n",
    "\n",
    "# Print out the fitted equation, errors in coefficients, and \\chi^2\n",
    "print_poly(a,sigA,5)\n",
    "print('chi^2 = ',chi2, ', N-M = 48')\n",
    "\n",
    "# Plot:\n",
    "fig1,ax1=plt.subplots(figsize=(5,5))\n",
    "\n",
    "ax1.errorbar(x,y,yerr=sig,fmt='o',ecolor='r')\n",
    "ax1.plot(x,Yreg,'-g')\n",
    "\n",
    "plt.savefig('lin_reg_poly.pdf',bbox_inches='tight')\n",
    "plt.show()"
   ]
  },
  {
   "cell_type": "markdown",
   "metadata": {},
   "source": [
    "We see that it works just as well as our linear regression above. Lets fit the quadratic function:"
   ]
  },
  {
   "cell_type": "code",
   "execution_count": 82,
   "metadata": {},
   "outputs": [
    {
     "name": "stdout",
     "output_type": "stream",
     "text": [
      "Y = 1.66731 (+/- 0.81568 )+0.49021 (+/- 0.07545 )x+-0.01964 (+/- 0.00146 )x^ 2\n",
      "\n",
      "chi^2 =  37.53199379178953 , N-M = 48\n"
     ]
    },
    {
     "data": {
      "image/png": "[encoded data removed]",
      "text/plain": [
       "<Figure size 360x360 with 1 Axes>"
      ]
     },
     "metadata": {
      "needs_background": "light"
     },
     "output_type": "display_data"
    }
   ],
   "source": [
    "# x points\n",
    "pts = 50\n",
    "x=np.linspace(0,50,pts)\n",
    "\n",
    "# Level of randomness. Note that \\sigma is constant for all i\n",
    "alpha=2.0\n",
    "sig=np.ones(pts)*alpha\n",
    "\n",
    "# Quadratic function\n",
    "c0 = 2.0\n",
    "c1 = 0.5\n",
    "c2 = -0.02\n",
    "y=c0+c1*x+c2*x**2\n",
    "\n",
    "# Add some noise (randn are random numbers chosen from a Gaussian distribution)\n",
    "alphaR=alpha*(np.random.randn(pts))\n",
    "y+=alphaR\n",
    "    \n",
    "# Perform the regression\n",
    "polyOrder=2\n",
    "Yreg,a,sigA,chi2=polynomial_reg(x,y,polyOrder,sig)\n",
    "\n",
    "# Print out the fitted equation, errors in coefficients, and \\chi^2\n",
    "print_poly(a,sigA,5)\n",
    "print('chi^2 = ',chi2, ', N-M = 48')\n",
    "\n",
    "# Plot:\n",
    "fig1,ax1=plt.subplots(figsize=(5,5))\n",
    "\n",
    "ax1.errorbar(x,y,yerr=sig,fmt='o',ecolor='r')\n",
    "ax1.plot(x,Yreg,'-g')\n",
    "\n",
    "plt.savefig('lin_reg_quad_poly.pdf',bbox_inches='tight')\n",
    "plt.show()"
   ]
  },
  {
   "cell_type": "markdown",
   "metadata": {},
   "source": [
    "The fitting looks good, and the $\\chi^2$ looks reasonable. What if we try to fit to a much higher order polynomial? Lets try one of order 8: "
   ]
  },
  {
   "cell_type": "code",
   "execution_count": 83,
   "metadata": {},
   "outputs": [
    {
     "name": "stdout",
     "output_type": "stream",
     "text": [
      "Y = 2.6979896602 (+/- 1.7967449258 )+-1.3037797362 (+/- 1.8106299011 )x+0.5236423179 (+/- 0.5778904998 )x^ 2+-0.0657419357 (+/- 0.0809500879 )x^ 3+0.0040633012 (+/- 0.0059136659 )x^ 4+-0.0001408219 (+/- 0.0002422172 )x^ 5+2.7747e-06 (+/- 5.6012e-06 )x^ 6+-2.91e-08 (+/- 6.83e-08 )x^ 7+1e-10 (+/- 3e-10 )x^ 8\n",
      "\n",
      "chi^2 =  35.71330100399662 , N-M = 48\n"
     ]
    },
    {
     "data": {
      "image/png": "[encoded data removed]",
      "text/plain": [
       "<Figure size 360x360 with 1 Axes>"
      ]
     },
     "metadata": {
      "needs_background": "light"
     },
     "output_type": "display_data"
    }
   ],
   "source": [
    "# Perform the regression\n",
    "polyOrder=8\n",
    "Yreg,a,sigA,chi2=polynomial_reg(x,y,polyOrder,sig)\n",
    "\n",
    "# Print out the fitted equation, errors in coefficients, and \\chi^2\n",
    "print_poly(a,sigA,10)\n",
    "print('chi^2 = ',chi2, ', N-M = 48')\n",
    "\n",
    "# Plot:\n",
    "fig1,ax1=plt.subplots(figsize=(5,5))\n",
    "\n",
    "ax1.errorbar(x,y,yerr=sig,fmt='o',ecolor='r')\n",
    "ax1.plot(x,Yreg,'-g')\n",
    "\n",
    "plt.savefig('lin_reg_ten_poly.pdf',bbox_inches='tight')\n",
    "plt.show()"
   ]
  },
  {
   "cell_type": "markdown",
   "metadata": {},
   "source": [
    "The fit looks good, but notice that the coefficients have large varience. Many of the higher orders have very small coefficients. We have not significantly imporved the $\\chi^2$."
   ]
  },
  {
   "cell_type": "code",
   "execution_count": null,
   "metadata": {},
   "outputs": [],
   "source": []
  },
  {
   "cell_type": "code",
   "execution_count": null,
   "metadata": {},
   "outputs": [],
   "source": []
  }
 ],
 "metadata": {
  "kernelspec": {
   "display_name": "Python 3",
   "language": "python",
   "name": "python3"
  },
  "language_info": {
   "codemirror_mode": {
    "name": "ipython",
    "version": 3
   },
   "file_extension": ".py",
   "mimetype": "text/x-python",
   "name": "python",
   "nbconvert_exporter": "python",
   "pygments_lexer": "ipython3",
   "version": "3.7.4"
  }
 },
 "nbformat": 4,
 "nbformat_minor": 2
}
