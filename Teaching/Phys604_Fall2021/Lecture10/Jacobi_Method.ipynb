{
 "cells": [
  {
   "cell_type": "code",
   "execution_count": null,
   "metadata": {},
   "outputs": [],
   "source": [
    "import numpy as np\n",
    "\n",
    "def jacobi_solve(A,b,x0,tol=1.0e-10,nTolMax=1000):\n",
    "    '''Solves linear system with Jacobi iterative method'''\n",
    "    \n",
    "    N=len(b)\n",
    "    x=x0\n",
    "\n",
    "    D=np.diag(np.diagonal(A))\n",
    "    LU=A-D\n",
    "        \n",
    "    for n in range(nTolMax):\n",
    "        \n",
    "        x=np.linalg.inv(D) @ (b - LU @ x0)\n",
    "        \n",
    "        if max(abs(x-x0))< tol:\n",
    "            return x\n",
    "        \n",
    "        x0=x\n",
    "        print(x)\n",
    "    \n",
    "    \n",
    "    print(\"Did not converge!\")\n",
    "    raise\n",
    "\n",
    "    "
   ]
  },
  {
   "cell_type": "code",
   "execution_count": null,
   "metadata": {},
   "outputs": [],
   "source": [
    "# Random matrix\n",
    "nMatrix=3\n",
    "A=np.random.rand(nMatrix,nMatrix)\n",
    "b=np.random.rand(nMatrix)\n",
    "x0=np.random.rand(nMatrix)\n",
    "\n",
    "# Lets ensure that it is strictly diagonally dominant\n",
    "A+=nMatrix*np.identity(nMatrix)\n",
    "\n",
    "# Now we can solve\n",
    "x=jacobi_solve(A,b,x0)\n",
    "\n",
    "# Lets make sure it worked!\n",
    "print()\n",
    "print('Residual (should be zero): ',A@x-b)\n"
   ]
  },
  {
   "cell_type": "code",
   "execution_count": null,
   "metadata": {},
   "outputs": [],
   "source": [
    "# Example where it will not converge (from wikipedia)\n",
    "A=np.array([[29,2,1],[2,6,1],[1,1,0.2]])\n",
    "b=np.random.rand(3)\n",
    "x0=np.random.rand(3)\n",
    "\n",
    "# Try to solve\n",
    "x=jacobi_solve(A,b,x0)\n",
    "\n"
   ]
  },
  {
   "cell_type": "code",
   "execution_count": null,
   "metadata": {},
   "outputs": [],
   "source": []
  }
 ],
 "metadata": {
  "kernelspec": {
   "display_name": "Python 3",
   "language": "python",
   "name": "python3"
  },
  "language_info": {
   "codemirror_mode": {
    "name": "ipython",
    "version": 3
   },
   "file_extension": ".py",
   "mimetype": "text/x-python",
   "name": "python",
   "nbconvert_exporter": "python",
   "pygments_lexer": "ipython3",
   "version": "3.7.4"
  }
 },
 "nbformat": 4,
 "nbformat_minor": 2
}
