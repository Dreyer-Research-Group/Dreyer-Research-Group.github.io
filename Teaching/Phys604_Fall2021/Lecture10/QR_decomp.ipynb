{
 "cells": [
  {
   "cell_type": "code",
   "execution_count": null,
   "metadata": {},
   "outputs": [],
   "source": [
    "import numpy as np\n",
    "\n",
    "class QRdecompose:\n",
    "    '''Class to perform QR decomposition'''\n",
    "    \n",
    "    def __init__(self,A,tol=1.0e-10):\n",
    "        self.A0=A\n",
    "        self.N=A.shape[0]\n",
    "        self.tol=tol\n",
    "        \n",
    "        [self.evals,self.evecs]=self.qr_steps()\n",
    "        \n",
    "        \n",
    "    def qr_steps(self):\n",
    "        '''Perform the QR steps until the off-diagonal elements are small enough'''\n",
    "        V=np.identity(self.N)\n",
    "        D=np.copy(self.A0)\n",
    "        \n",
    "        maxOffDiag=self.tol*100 # To get us into the loop\n",
    "        \n",
    "        while (maxOffDiag > self.tol):\n",
    "        \n",
    "            Q,R=self.qr_decomp(D)\n",
    "            D=R@Q\n",
    "            V=V@Q\n",
    "        \n",
    "            diagD=np.diag(np.diagonal(D))\n",
    "            maxOffDiag=np.amax(D-diagD)\n",
    "\n",
    "        return np.diagonal(D),V\n",
    "        \n",
    "        \n",
    "    def qr_decomp(self,A):\n",
    "        '''perform the QR decomposition'''\n",
    "        \n",
    "        Q=np.zeros((self.N,self.N))\n",
    "        R=np.zeros((self.N,self.N))\n",
    "        \n",
    "        for ii in range(0,self.N):\n",
    "            \n",
    "            # Calculate u_i\n",
    "            u=A[:,ii]\n",
    "            for jj in range(0,ii):\n",
    "                u-=np.dot(Q[:,jj],A[:,ii])*Q[:,jj]\n",
    "            \n",
    "            Q[:,ii]=u/np.linalg.norm(u)\n",
    "            \n",
    "            # Now populate row of R\n",
    "            R[ii,ii]=np.linalg.norm(u)\n",
    "            if ii<self.N:\n",
    "                R[ii,ii+1:]=np.matmul(Q[:,ii],A[:,ii+1:])\n",
    "                \n",
    "        return Q,R\n",
    "            \n",
    "        \n",
    "        \n",
    "        "
   ]
  },
  {
   "cell_type": "code",
   "execution_count": null,
   "metadata": {},
   "outputs": [],
   "source": [
    "# Simple example\n",
    "\n",
    "A=np.array([[1,4,8,4],[4,2,3,7],[8,3,6,9],[4,7,9,2]],dtype='float')\n",
    "\n",
    "eigA=QRdecompose(A)\n",
    "\n",
    "np.set_printoptions(precision=4,suppress=True)\n",
    "print(eigA.evals)\n",
    "print()\n",
    "print(eigA.evecs)\n",
    "print()\n",
    "print(np.transpose(eigA.evecs) @ A @ eigA.evecs)\n"
   ]
  },
  {
   "cell_type": "code",
   "execution_count": null,
   "metadata": {},
   "outputs": [],
   "source": [
    "# Random (symmetric) matrix\n",
    "nMatrix=3\n",
    "A=np.random.rand(nMatrix,nMatrix)\n",
    "A=A + A.T - np.diag(A.diagonal())\n",
    "eigA=QRdecompose(A)\n",
    "print(eigA.evals)\n",
    "\n",
    "print(np.linalg.eigvalsh(A))"
   ]
  },
  {
   "cell_type": "code",
   "execution_count": null,
   "metadata": {},
   "outputs": [],
   "source": []
  }
 ],
 "metadata": {
  "kernelspec": {
   "display_name": "Python 3",
   "language": "python",
   "name": "python3"
  },
  "language_info": {
   "codemirror_mode": {
    "name": "ipython",
    "version": 3
   },
   "file_extension": ".py",
   "mimetype": "text/x-python",
   "name": "python",
   "nbconvert_exporter": "python",
   "pygments_lexer": "ipython3",
   "version": "3.7.4"
  }
 },
 "nbformat": 4,
 "nbformat_minor": 2
}
