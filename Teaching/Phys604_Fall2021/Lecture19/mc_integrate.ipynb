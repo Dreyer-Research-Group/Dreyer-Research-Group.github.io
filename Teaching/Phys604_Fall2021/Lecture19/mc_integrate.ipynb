{
 "cells": [
  {
   "cell_type": "code",
   "execution_count": 1,
   "metadata": {},
   "outputs": [],
   "source": [
    "# Imports\n",
    "import numpy as np\n",
    "import matplotlib.pyplot as plt\n",
    "import scipy.integrate as integrate\n",
    "from scipy.special import gamma"
   ]
  },
  {
   "cell_type": "markdown",
   "metadata": {},
   "source": [
    "# Monte Carlo integration\n",
    "\n",
    "In this notebook, we will use random sampling to perform integration. To start, we will consider the function $$I=\\int_0^2 \\sin^2\\left[\\frac{1}{x(2-x)}\\right]dx.$$ First lets see what it looks like:"
   ]
  },
  {
   "cell_type": "code",
   "execution_count": 2,
   "metadata": {},
   "outputs": [
    {
     "data": {
      "image/png": "[encoded data removed]",
      "text/plain": [
       "<Figure size 360x360 with 1 Axes>"
      ]
     },
     "metadata": {
      "needs_background": "light"
     },
     "output_type": "display_data"
    }
   ],
   "source": [
    "x=np.linspace(1e-6,2-1e-6,1000)\n",
    "\n",
    "def f(x):\n",
    "    return np.sin(1./(x*(2-x)))**2\n",
    "\n",
    "fig,ax=plt.subplots(figsize=(5,5))\n",
    "ax.plot(x,f(x))\n",
    "\n",
    "plt.savefig('mc_int_func.pdf',bbox_inches='tight')\n",
    "plt.show()"
   ]
  },
  {
   "cell_type": "markdown",
   "metadata": {},
   "source": [
    "Lets try some built in methods for numerical integration:"
   ]
  },
  {
   "cell_type": "code",
   "execution_count": 3,
   "metadata": {},
   "outputs": [
    {
     "name": "stdout",
     "output_type": "stream",
     "text": [
      "Integral quad: 1.4516877509810684 , error: 0.0027123781525915302\n",
      "Integral Simpson: 1.4476999666322365\n"
     ]
    },
    {
     "name": "stderr",
     "output_type": "stream",
     "text": [
      "/Library/Frameworks/Python.framework/Versions/3.7/lib/python3.7/site-packages/ipykernel_launcher.py:1: IntegrationWarning: The maximum number of subdivisions (50) has been achieved.\n",
      "  If increasing the limit yields no improvement it is advised to analyze \n",
      "  the integrand in order to determine the difficulties.  If the position of a \n",
      "  local difficulty can be determined (singularity, discontinuity) one will \n",
      "  probably gain from splitting up the interval and calling the integrator \n",
      "  on the subranges.  Perhaps a special-purpose integrator should be used.\n",
      "  \"\"\"Entry point for launching an IPython kernel.\n"
     ]
    }
   ],
   "source": [
    "quad=integrate.quad(f,0,2)\n",
    "print('Integral quad:',quad[0],', error:',quad[1])\n",
    "print('Integral Simpson:',integrate.simps(f(x),x))"
   ]
  },
  {
   "cell_type": "markdown",
   "metadata": {},
   "source": [
    "The error is quite large, and went to the max number of subintervals. Lets try the random sampling strategy discussed in class.\n",
    "\n",
    "## \"Hit or miss\" Monte Carlo integration"
   ]
  },
  {
   "cell_type": "code",
   "execution_count": 8,
   "metadata": {},
   "outputs": [
    {
     "name": "stdout",
     "output_type": "stream",
     "text": [
      "Result of Monte Carlo Integration: 1.4546\n"
     ]
    }
   ],
   "source": [
    "N=10000\n",
    "x_rand=2.*np.random.rand(N)\n",
    "f_x=f(x_rand)\n",
    "y=np.random.rand(N)\n",
    "\n",
    "diff=f_x-y\n",
    "\n",
    "k=len(np.where(diff > 0.)[0])\n",
    "\n",
    "I=2.*k/N\n",
    "\n",
    "print('Result of Monte Carlo Integration:',I)\n",
    "\n",
    "# Uncomment lines below to generate plot\n",
    "\n",
    "# fig,ax=plt.subplots(figsize=(5,5))\n",
    "# ax.plot(x,f(x))\n",
    "\n",
    "# for i in range(N):\n",
    "    \n",
    "#     if diff[i]>0: ax.plot(x_rand[i],y[i],'or')\n",
    "#     if diff[i]<0: ax.plot(x_rand[i],y[i],'ob')\n",
    "        \n",
    "\n",
    "#plt.savefig('mc_int.pdf',bbox_inches='tight')\n",
    "plt.show()"
   ]
  },
  {
   "cell_type": "markdown",
   "metadata": {},
   "source": [
    "## Mean value method method\n",
    "\n",
    "Now lets try the mean value method discussed in class:"
   ]
  },
  {
   "cell_type": "code",
   "execution_count": null,
   "metadata": {},
   "outputs": [],
   "source": [
    "fig,ax=plt.subplots(figsize=(5,5))\n",
    "\n",
    "Is=[]\n",
    "Ns=[]\n",
    "errs=[]\n",
    "for N_exp in range(1,8):\n",
    "\n",
    "    # Number of samples\n",
    "    N=10**N_exp\n",
    "    Ns.append(N)\n",
    "    \n",
    "    # Generate random samples\n",
    "    samples=f(2.*np.random.rand(N))\n",
    "    \n",
    "    # Error\n",
    "    err=2.*np.std(samples)/np.sqrt(N)\n",
    "    errs.append(err)\n",
    "    \n",
    "    # Solve the integral\n",
    "    I=(2./N)*np.sum(samples)\n",
    "    Is.append(I)\n",
    "    \n",
    "    \n",
    "# Plot\n",
    "ax.errorbar(Ns,Is,yerr=errs,fmt='x:')\n",
    "ax.set_xscale('log')\n",
    "ax.set_xlabel('Number of samples')\n",
    "ax.set_ylabel('I')\n",
    "\n",
    "plt.savefig('mc_int_mean_value.pdf',bbox_inches='tight')\n",
    "plt.show()"
   ]
  },
  {
   "cell_type": "markdown",
   "metadata": {},
   "source": [
    "## Volume of hypersphere\n",
    "\n",
    "We will now use the mean value method to calculate the volume of a 10-dimensional hypersphere:\n",
    "$$f(\\textbf{r})=\\begin{cases}1 & {\\rm if }\\; \\textbf{r} \\leq 1 \\\\\n",
    "0 & {\\rm otherwise}\\end{cases}.$$\n",
    "\n",
    "We can compare to the exact volume, given by:\n",
    "$$V_d(r)=\\frac{\\pi^{d/2}}{\\Gamma\\left(\\frac{d}{2}+1\\right)}r^d,$$\n",
    "where $d$ is the number of dimensions, and $r$ is the radius."
   ]
  },
  {
   "cell_type": "code",
   "execution_count": null,
   "metadata": {},
   "outputs": [],
   "source": [
    "dim=2\n",
    "N=10000000\n",
    "\n",
    "# Generate random coefficients\n",
    "samples=np.random.rand(N,dim)\n",
    "\n",
    "# Sum over function \n",
    "f_sum=len(np.where(np.sum(samples**2,axis=1) <= 1.)[0])\n",
    "\n",
    "# Calculate integral\n",
    "I=(2**dim/N)*f_sum\n",
    "\n",
    "# Exact equation:\n",
    "def vol_hypersphere(dim,r):\n",
    "    return (np.pi**(dim/2)*r**dim)/gamma(dim/2+1)\n",
    "\n",
    "print('Midpoint method integration volume:',I)\n",
    "print('Exact volume:',vol_hypersphere(dim,1))\n",
    "        \n"
   ]
  },
  {
   "cell_type": "markdown",
   "metadata": {},
   "source": [
    "## Importance sampling and pathological functions\n",
    "\n",
    "Consider now the integral:\n",
    "$$I=\\int_0^1\\frac{x^{-1/2}}{e^x+1}dx.$$\n",
    "\n",
    "Lets plot the function:"
   ]
  },
  {
   "cell_type": "code",
   "execution_count": null,
   "metadata": {},
   "outputs": [],
   "source": [
    "x=np.linspace(1e-5,1,1000)\n",
    "\n",
    "def f(x):\n",
    "    return (x**(-0.5))/(np.exp(x)+1)\n",
    "\n",
    "fig,ax=plt.subplots(figsize=(5,5))\n",
    "ax.plot(x,f(x))\n",
    "ax.set_yscale('log')\n",
    "\n",
    "plt.savefig('mc_int_func_div.pdf',bbox_inches='tight')\n",
    "plt.show()"
   ]
  },
  {
   "cell_type": "markdown",
   "metadata": {},
   "source": [
    "We see that it diverges at $x=0$. Now we will use the importance sampling method to solve. We showed in the lecture that we need to sample:\n",
    "$$I \\simeq \\frac{1}{N}\\sum_{i=1}^N \\frac{2}{e^{x_i}+1}$$\n",
    "where $x_i$ is sampled over the distribution $x=z^2$."
   ]
  },
  {
   "cell_type": "code",
   "execution_count": null,
   "metadata": {},
   "outputs": [],
   "source": [
    "N=10000\n",
    "I=(1./N)*np.sum(2./(np.exp(np.random.rand(N)**2)+1))\n",
    "\n",
    "print('Importance sampling method gives:', I)"
   ]
  },
  {
   "cell_type": "code",
   "execution_count": null,
   "metadata": {},
   "outputs": [],
   "source": []
  },
  {
   "cell_type": "code",
   "execution_count": null,
   "metadata": {},
   "outputs": [],
   "source": []
  }
 ],
 "metadata": {
  "kernelspec": {
   "display_name": "Python 3",
   "language": "python",
   "name": "python3"
  },
  "language_info": {
   "codemirror_mode": {
    "name": "ipython",
    "version": 3
   },
   "file_extension": ".py",
   "mimetype": "text/x-python",
   "name": "python",
   "nbconvert_exporter": "python",
   "pygments_lexer": "ipython3",
   "version": "3.7.4"
  }
 },
 "nbformat": 4,
 "nbformat_minor": 2
}
