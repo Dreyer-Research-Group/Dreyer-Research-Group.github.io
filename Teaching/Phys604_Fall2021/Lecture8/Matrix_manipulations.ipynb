{
 "cells": [
  {
   "cell_type": "code",
   "execution_count": 1,
   "metadata": {},
   "outputs": [],
   "source": [
    "# Libraries, etc.\n",
    "import numpy as np\n",
    "import time"
   ]
  },
  {
   "cell_type": "code",
   "execution_count": null,
   "metadata": {},
   "outputs": [],
   "source": [
    "# Laplace Expansion\n",
    "\n",
    "def laplace_det(M):\n",
    "    global total_mult\n",
    "    # 1x1 matrix\n",
    "    if M.shape[0] == 1: \n",
    "        return M[0][0]\n",
    "    \n",
    "    total = 0\n",
    "    for column in range(M.shape[0]):\n",
    "        s = 1 if column % 2 == 0 else -1 \n",
    "        K=np.delete(np.delete(M,0,0),column,1)\n",
    "        \n",
    "        total_mult+=1            \n",
    "        total += s * M[0,column] * laplace_det(K)\n",
    "  \n",
    "    return total\n",
    "\n",
    "def main():\n",
    "    global total_mult\n",
    "    total_mult=0\n",
    "\n",
    "    nMatrix=2\n",
    "    random_M=np.random.rand(nMatrix,nMatrix)\n",
    "\n",
    "    print('Determinant:', laplace_det(random_M))\n",
    "    \n",
    "    print('Number of multiplications:',total_mult)\n",
    "\n",
    "\n",
    "if __name__ == \"__main__\":\n",
    "    main()"
   ]
  },
  {
   "cell_type": "code",
   "execution_count": 15,
   "metadata": {},
   "outputs": [
    {
     "name": "stdout",
     "output_type": "stream",
     "text": [
      "x from Cramer's rule: [1.86369498 0.51705792 0.33617242]\n",
      "Time for Cramer's rule: 0.0005931639998379978\n",
      "\n",
      "numpy inverse and matmul: [1.86369498 0.51705792 0.33617242]\n",
      "Time for numpy inverse and matmul: 0.0015725399998700595\n",
      "\n"
     ]
    }
   ],
   "source": [
    "# Cramer's Rule\n",
    "\n",
    "def cramers_rule(M,b):\n",
    "    \n",
    "    x=np.zeros(M.shape[1])\n",
    "    for column in range(M.shape[1]):\n",
    "        Mi=np.copy(M)\n",
    "        Mi[:,column]=b\n",
    "        x[column]=np.linalg.det(Mi)/np.linalg.det(M)\n",
    "        \n",
    "    return x\n",
    "\n",
    "def cramers_rule_laplace(M,b):\n",
    "    \n",
    "    x=np.zeros(M.shape[1])\n",
    "    for column in range(M.shape[1]):\n",
    "        Mi=np.copy(M)\n",
    "        Mi[:,column]=b\n",
    "        x[column]=laplace_det(Mi)/laplace_det(M)\n",
    "        \n",
    "    return x\n",
    "\n",
    "def main():\n",
    "    \n",
    "    nMatrix=3\n",
    "    random_M=np.random.rand(nMatrix,nMatrix)\n",
    "    random_b=np.random.rand(nMatrix)\n",
    "\n",
    "    start = time.perf_counter()\n",
    "    print(\"x from Cramer's rule:\", cramers_rule(random_M,random_b))\n",
    "    end = time.perf_counter()\n",
    "    print(\"Time for Cramer's rule:\", end - start)\n",
    "    \n",
    "    print( )\n",
    "    \n",
    "    start = time.perf_counter()\n",
    "    print(\"numpy inverse and matmul:\",np.matmul(np.linalg.inv(random_M),random_b))\n",
    "    end = time.perf_counter()\n",
    "    print(\"Time for numpy inverse and matmul:\", end - start)\n",
    "    \n",
    "    print( )\n",
    "    \n",
    "    #start = time.perf_counter()\n",
    "    #print(\"x from Cramer's rule (Laplace exp.):\", cramers_rule_laplace(random_M,random_b))\n",
    "    #end = time.perf_counter()\n",
    "    #print(\"Time for Cramer's rule (Laplace exp.):\", end - start)\n",
    "    \n",
    "    \n",
    "    \n",
    "\n",
    "\n",
    "if __name__ == \"__main__\":\n",
    "    main()"
   ]
  },
  {
   "cell_type": "code",
   "execution_count": null,
   "metadata": {},
   "outputs": [],
   "source": []
  },
  {
   "cell_type": "code",
   "execution_count": null,
   "metadata": {},
   "outputs": [],
   "source": []
  }
 ],
 "metadata": {
  "kernelspec": {
   "display_name": "Python 3",
   "language": "python",
   "name": "python3"
  },
  "language_info": {
   "codemirror_mode": {
    "name": "ipython",
    "version": 3
   },
   "file_extension": ".py",
   "mimetype": "text/x-python",
   "name": "python",
   "nbconvert_exporter": "python",
   "pygments_lexer": "ipython3",
   "version": "3.7.4"
  }
 },
 "nbformat": 4,
 "nbformat_minor": 2
}
