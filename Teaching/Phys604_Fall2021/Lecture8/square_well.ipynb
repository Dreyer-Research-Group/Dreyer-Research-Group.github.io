{
 "cells": [
  {
   "cell_type": "markdown",
   "metadata": {},
   "source": [
    "# Solving the Schr&ouml;dinger equation in a 1D well\n",
    "\n",
    "As an example of an eigenvalue We will solve the 1D Schr&ouml;dinger equation:\n",
    "$$-\\frac{\\hbar}{2m}\\frac{d^2\\psi}{dx^2}+V(x)\\psi(x)=E\\psi(x)$$\n",
    "in an infinite square well:\n",
    "$$V(x)=\\begin{cases}\n",
    "    0,& \\text{for } 0 < x < L\\\\\n",
    "    \\infty,              & \\text{elsewhere}\n",
    "\\end{cases}$$\n",
    "\n",
    "We perform the usual trick\n",
    "$$\\frac{d\\psi}{dx}=\\phi, \\; \\; \\; \\frac{d\\phi}{dx}=\\frac{2m}{\\hbar^2}[V(x)-E]\\psi.$$\n",
    "Our initial condition is $\\psi(0)=0$, and our boundary contdition is $\\psi(L)=0$. We do not know that $\\phi$ should be.\n",
    "\n",
    "\n",
    "We will first choose an arbitrary energy $E$ and plot $\\psi(x)$."
   ]
  },
  {
   "cell_type": "code",
   "execution_count": 10,
   "metadata": {},
   "outputs": [],
   "source": [
    "import numpy as np\n",
    "import scipy.constants as c\n",
    "import matplotlib.pyplot as plt\n",
    "\n",
    "class schrodingerOneDwell:\n",
    "    '''Class for solving our boundary value problem of 1D schrodinger equation.'''\n",
    "\n",
    "    def __init__(self,E=700*c.e,Vx=None,x0=0,L=(c.hbar/(c.m_e*c.c*c.alpha)),\\\n",
    "                 psi0=0.0,psiL=0.0,phi0=1.0,nRKsteps=1000):\n",
    "        self.Vx=Vx\n",
    "        self.E=E\n",
    "        self.rkPoints = np.linspace(x0,L,nRKsteps)\n",
    "        self.deltaX=(L-x0)/nRKsteps\n",
    "        self.psi0=psi0\n",
    "        \n",
    "        self.psiOfx=self.rk4(phi0)   \n",
    "\n",
    "    def f(self,r,x,E):\n",
    "        '''RHS of RK'''\n",
    "        psi=r[0]\n",
    "        phi=r[1]\n",
    "        fpsi=phi\n",
    "        fphi=(2*c.m_e/c.hbar**2)*(self.Vx(x)-E)*psi\n",
    "        return np.array([fpsi,fphi])\n",
    "    \n",
    "    \n",
    "    def rk4(self,phi):\n",
    "        '''Evaluating the height for a given velocity using the RK method'''\n",
    "        r=np.array([self.psi0,phi])\n",
    "        dx=self.deltaX\n",
    "        E=self.E\n",
    "        \n",
    "        psiOfx=np.array([])\n",
    "        for x in self.rkPoints:\n",
    "            k1=dx*self.f(r,x,E)\n",
    "            k2=dx*self.f(r+0.5*k1,x+0.5*dx,E)\n",
    "            k3=dx*self.f(r+0.5*k2,x+0.5*dx,E)\n",
    "            k4=dx*self.f(r+k3,x+dx,E)\n",
    "            r+=(k1+2.0*k2+2.0*k3+k4)/6.0\n",
    "            \n",
    "            psiOfx=np.append(psiOfx,r[0])\n",
    "            \n",
    "        return psiOfx"
   ]
  },
  {
   "cell_type": "code",
   "execution_count": 24,
   "metadata": {},
   "outputs": [
    {
     "data": {
      "image/png": "[encoded data removed]",
      "text/plain": [
       "<Figure size 360x360 with 1 Axes>"
      ]
     },
     "metadata": {
      "needs_background": "light"
     },
     "output_type": "display_data"
    }
   ],
   "source": [
    "def V(x):\n",
    "    '''Somewhat trivial potential'''\n",
    "    return 0.0\n",
    "\n",
    "phiOne=schrodingerOneDwell(Vx=V)\n",
    "phiTwo=schrodingerOneDwell(Vx=V,phi0=2.0)\n",
    "phiThree=schrodingerOneDwell(Vx=V,phi0=3.0)\n",
    "\n",
    "fig1,ax1=plt.subplots(figsize=(5,5))\n",
    "\n",
    "ax1.plot(phiOne.rkPoints,np.zeros(len(phiOne.rkPoints)),'k')\n",
    "\n",
    "ax1.plot(phiOne.rkPoints,phiOne.psiOfx)\n",
    "ax1.plot(phiTwo.rkPoints,phiTwo.psiOfx)\n",
    "ax1.plot(phiThree.rkPoints,phiThree.psiOfx)\n",
    "\n",
    "ax1.set_xlim(phiOne.rkPoints[0],phiOne.rkPoints[-1])\n",
    "\n",
    "plt.savefig('oneDwell_ex.pdf',bbox_inches='tight')\n",
    "\n",
    "plt.show()"
   ]
  },
  {
   "cell_type": "markdown",
   "metadata": {},
   "source": [
    "Notice that changing the initial condition $\\phi$ just scales the function (because the ODE is linear). Thus we will never be able to choose $\\phi$ so that the boundary condition $\\psi(L)=0$ is satisfied.\n",
    "\n",
    "But we already know why this is the case. The Schr&ouml;dinger equation only has valid solutions for specific $E$. So our task is really to find $E$ such that $\\psi(L)=0$. $\\phi$ can be set by enforcing some normalization of the wavefunction."
   ]
  },
  {
   "cell_type": "code",
   "execution_count": 12,
   "metadata": {},
   "outputs": [],
   "source": [
    "class schrodingerSolveE:\n",
    "    '''Class for solving our boundary value problem of 1D schrodinger equation, solving for E'''\n",
    "\n",
    "    def __init__(self,E_guess=[c.e,200*c.e],Vx=None,x0=0.0,L=(c.hbar/(c.m_e*c.c*c.alpha)),\\\n",
    "                 psi0=0.0,phi0=1.0,nRKsteps=1000,accuracy=c.e/1000):\n",
    "        \n",
    "        self.Vx=Vx\n",
    "        self.L=L\n",
    "        self.E_guess=E_guess\n",
    "        self.rkPoints = np.linspace(x0,L,nRKsteps)\n",
    "        self.deltaX=(L-x0)/nRKsteps\n",
    "        self.psi0=psi0\n",
    "        self.phi0=phi0\n",
    "        \n",
    "        self.E=self.secant_root(self.rk4,E_guess[0],E_guess[1],accuracy)\n",
    "        \n",
    "\n",
    "    def secant_root(self,func,E0,E1,accuracy):\n",
    "        '''Calculate the root with the Secant method'''\n",
    "        maxSteps=1000 # Limit the number of steps in case of divergence\n",
    "\n",
    "        phi=self.phi0\n",
    "        \n",
    "        for step in range(maxSteps):\n",
    "\n",
    "            derivative=((func(phi,E1)-func(phi,E0))/(E1-E0))\n",
    "            if abs(derivative) < 1.0e-30:\n",
    "                print('Derivative is too small: ',derivative, ', try different initial guesses.')\n",
    "                raise\n",
    "            else:\n",
    "                E2=E1-func(phi,E1)/derivative\n",
    "        \n",
    "            if abs(E2) < 1.0e-30 and  abs(E2-E1) < accuracy:\n",
    "                return E2\n",
    "\n",
    "\n",
    "            elif abs(E2-E1) < abs(E2*accuracy):\n",
    "                return E2\n",
    "\n",
    "            E0=E1\n",
    "            E1=E2\n",
    "\n",
    "        # If we end up here, out root did not converge\n",
    "        print('Root did not converge')\n",
    "        raise\n",
    "     \n",
    "        \n",
    "    def f(self,r,x,E):\n",
    "        '''RHS of RK'''\n",
    "        psi=r[0]\n",
    "        phi=r[1]\n",
    "        fpsi=phi\n",
    "        fphi=(2*c.m_e/c.hbar**2)*(self.Vx(x,self.L)-E)*psi\n",
    "        return np.array([fpsi,fphi])\n",
    "    \n",
    "    \n",
    "    def rk4(self,phi,E):\n",
    "        '''Evaluating the height for a given velocity using the RK method'''\n",
    "        r=np.array([self.psi0,phi])\n",
    "        dx=self.deltaX\n",
    "        \n",
    "        for x in self.rkPoints:\n",
    "            k1=dx*self.f(r,x,E)\n",
    "            k2=dx*self.f(r+0.5*k1,x+0.5*dx,E)\n",
    "            k3=dx*self.f(r+0.5*k2,x+0.5*dx,E)\n",
    "            k4=dx*self.f(r+k3,x+dx,E)\n",
    "            r+=(k1+2.0*k2+2.0*k3+k4)/6.0\n",
    "            \n",
    "        return r[0]"
   ]
  },
  {
   "cell_type": "code",
   "execution_count": 18,
   "metadata": {},
   "outputs": [
    {
     "name": "stdout",
     "output_type": "stream",
     "text": [
      "134.28280764025766\n"
     ]
    }
   ],
   "source": [
    "def V(x,L):\n",
    "    '''Somewhat trivial potential'''\n",
    "    return 0.0\n",
    "\n",
    "wellOne=schrodingerSolveE(Vx=V)\n",
    "print(wellOne.E/c.e)"
   ]
  },
  {
   "cell_type": "code",
   "execution_count": 23,
   "metadata": {},
   "outputs": [
    {
     "data": {
      "image/png": "[encoded data removed]",
      "text/plain": [
       "<Figure size 432x288 with 1 Axes>"
      ]
     },
     "metadata": {
      "needs_background": "light"
     },
     "output_type": "display_data"
    },
    {
     "name": "stdout",
     "output_type": "stream",
     "text": [
      "112.54305719495834\n"
     ]
    }
   ],
   "source": [
    "def V2(x,L):\n",
    "    '''More complex potential'''\n",
    "    return 100*c.e*(x/L)*(x/L-1)\n",
    "\n",
    "# Plot to see what it looks like:\n",
    "L=(c.hbar/(c.m_e*c.c*c.alpha))\n",
    "x=np.linspace(0,L,200)\n",
    "V=V2(x,L)\n",
    "fig1,ax1=plt.subplots()\n",
    "\n",
    "ax1.plot(x,V)\n",
    "plt.show()\n",
    "\n",
    "wellTwo=schrodingerSolveE(Vx=V2)\n",
    "print(wellTwo.E/c.e)"
   ]
  },
  {
   "cell_type": "code",
   "execution_count": null,
   "metadata": {},
   "outputs": [],
   "source": []
  }
 ],
 "metadata": {
  "kernelspec": {
   "display_name": "Python 3",
   "language": "python",
   "name": "python3"
  },
  "language_info": {
   "codemirror_mode": {
    "name": "ipython",
    "version": 3
   },
   "file_extension": ".py",
   "mimetype": "text/x-python",
   "name": "python",
   "nbconvert_exporter": "python",
   "pygments_lexer": "ipython3",
   "version": "3.7.4"
  }
 },
 "nbformat": 4,
 "nbformat_minor": 2
}
