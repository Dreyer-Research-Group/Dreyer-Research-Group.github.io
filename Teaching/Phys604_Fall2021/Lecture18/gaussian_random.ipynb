{
 "cells": [
  {
   "cell_type": "code",
   "execution_count": null,
   "metadata": {},
   "outputs": [],
   "source": [
    "# Imports\n",
    "import numpy as np\n",
    "import matplotlib.pyplot as plt"
   ]
  },
  {
   "cell_type": "code",
   "execution_count": null,
   "metadata": {},
   "outputs": [],
   "source": [
    "def gauss_random(sigma,npts):\n",
    "    '''Generate random numbers from Gaussian distribution'''\n",
    "    \n",
    "    # Polar coordinates\n",
    "    theta=np.random.rand(npts)*2*np.pi\n",
    "    r=np.sqrt(-2*sigma**2*np.log(1-np.random.rand(npts)))\n",
    "\n",
    "    # Convert back into Cartesian coordinates\n",
    "    x=r*np.cos(theta)\n",
    "    y=r*np.sin(theta)\n",
    "    \n",
    "\n",
    "    return x,y "
   ]
  },
  {
   "cell_type": "markdown",
   "metadata": {},
   "source": [
    "# Gaussian-distributed random numbers"
   ]
  },
  {
   "cell_type": "code",
   "execution_count": null,
   "metadata": {},
   "outputs": [],
   "source": [
    "sigma=0.1\n",
    "x,y=gauss_random(sigma,10000)\n",
    "\n",
    "# Plot\n",
    "fig = plt.figure(figsize=(5,5))\n",
    "ax = fig.add_subplot(1, 1, 1)\n",
    "\n",
    "rands=np.concatenate((x,y))\n",
    "ax.hist(rands,bins=20)\n",
    "\n",
    "# Gaussian distribution\n",
    "x=np.linspace(-0.5,0.5,100)\n",
    "gauss=800*(1/np.sqrt(2*np.pi*sigma**2))*np.exp(-x**2/(2*sigma**2))\n",
    "ax.plot(x,gauss)\n",
    "\n",
    "plt.savefig('gauss_random.pdf',bbox_inches='tight')\n",
    "plt.show()"
   ]
  },
  {
   "cell_type": "markdown",
   "metadata": {},
   "source": [
    "# Rutherford scattering"
   ]
  },
  {
   "cell_type": "code",
   "execution_count": null,
   "metadata": {},
   "outputs": [],
   "source": [
    "# Parameters\n",
    "Z=79\n",
    "e=1.60218e-19 # electron charge in C\n",
    "E=7.7e6 * e # Kinetic energy\n",
    "epsilon0=8.854e-12 # C/Jm\n",
    "a0=5.292e-11 # Bohr radius in m\n",
    "sigma=a0/100\n",
    "N=int(1e6)\n",
    "\n",
    "x,y=gauss_random(sigma,N)\n",
    "b=np.sqrt(x**2+y**2)\n",
    "\n",
    "backScatter=(Z*e**2)/(2*np.pi*epsilon0*E)\n",
    "\n",
    "nBack=len(np.where(b < backScatter)[0])\n",
    "\n",
    "print(nBack,'Particles reflected out of',N)\n",
    "\n",
    "\n"
   ]
  },
  {
   "cell_type": "code",
   "execution_count": null,
   "metadata": {},
   "outputs": [],
   "source": []
  }
 ],
 "metadata": {
  "kernelspec": {
   "display_name": "Python 3",
   "language": "python",
   "name": "python3"
  },
  "language_info": {
   "codemirror_mode": {
    "name": "ipython",
    "version": 3
   },
   "file_extension": ".py",
   "mimetype": "text/x-python",
   "name": "python",
   "nbconvert_exporter": "python",
   "pygments_lexer": "ipython3",
   "version": "3.7.4"
  }
 },
 "nbformat": 4,
 "nbformat_minor": 2
}
