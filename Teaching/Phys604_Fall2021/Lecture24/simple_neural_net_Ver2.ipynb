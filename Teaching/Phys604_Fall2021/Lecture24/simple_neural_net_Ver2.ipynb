{
 "cells": [
  {
   "cell_type": "code",
   "execution_count": 9,
   "metadata": {},
   "outputs": [],
   "source": [
    "# imports\n",
    "import numpy as np\n",
    "import matplotlib.pyplot as plt\n",
    "import random"
   ]
  },
  {
   "cell_type": "code",
   "execution_count": 10,
   "metadata": {},
   "outputs": [],
   "source": [
    "class NerualNetTenth:\n",
    "    '''Class for solving the a simple neural net: Selecting the tenth element of a set'''\n",
    "    \n",
    "    def __init__(self,nInX=10,nTrain=10,nRepeat=100):\n",
    "        \n",
    "        num_set=[0.1,0.2,0.3,0.4,0.5,0.6,0.7,0.8,0.9]\n",
    "        \n",
    "        self.num_set=num_set # Values to choose from for input\n",
    "    \n",
    "        self.nInX=nInX # Size of the input array\n",
    "        self.nTrain=nTrain # Number of unique training data\n",
    "        self.nRepeat=nRepeat # Number of times to repeat training set\n",
    "        self.nTrain_rep=nTrain*nRepeat # Number of total training sets\n",
    "        \n",
    "        # Set the alpha value\n",
    "        self.alpha=self.set_alpha()\n",
    "        \n",
    "        # Set up the training set \n",
    "        self.xT,self.zT,self.xT_rep,self.zT_rep=self.get_training_set()\n",
    "        \n",
    "        # Train the model to get A\n",
    "        self.A=self.train_neural_net()\n",
    "        \n",
    "        # Test on the training set to get residual\n",
    "        self.resid=[]\n",
    "        for x in range(nTrain):\n",
    "            gAx=self.apply(self.xT[x])\n",
    "            self.resid.append(gAx-self.zT[x])\n",
    "        self.resid=np.ndarray.flatten(np.array(self.resid))\n",
    "        \n",
    "    def get_training_set(self):\n",
    "        '''Generate a random training set of nTrain unique input/output pairs repeated nRepeat times.'''\n",
    "\n",
    "        xT=[]\n",
    "        zT=[]\n",
    "        for t in range(self.nTrain):\n",
    "            x=np.random.choice(self.num_set,size=self.nInX)\n",
    "            zT.append(x[9]) # Tenth element\n",
    "            xT.append(list(np.array(x)-0.5)) # Subtract 0.5 to place in the nonlinear region of g\n",
    "\n",
    "        # Duplicate the training set\n",
    "        xT_rep=xT.copy()\n",
    "        zT_rep=zT.copy()\n",
    "        for d in range(self.nRepeat):\n",
    "            xT_rep+=xT.copy()\n",
    "            zT_rep+=zT.copy()\n",
    "        \n",
    "        # Shuffle the training set\n",
    "        _tmp_xz=list(zip(xT_rep,zT_rep))\n",
    "        random.shuffle(_tmp_xz)\n",
    "        xT_rep,zT_rep=zip(*_tmp_xz)\n",
    "        \n",
    "        return xT,zT,xT_rep,zT_rep\n",
    "\n",
    "    def set_alpha(self):\n",
    "        '''Set the alpha value based on the largest value in the set of numbers'''\n",
    "        return 10./(self.nInX*np.amax(np.abs(np.array(self.num_set))))\n",
    "    \n",
    "    \n",
    "    def train_neural_net(self):\n",
    "        '''Train the neural network'''\n",
    "        # Tolerance and step size for convergence of the steepest descent\n",
    "        tol=1e-8\n",
    "        eta=0.5\n",
    "        \n",
    "        # Randomly initialize A matrix, 1 x size of num_set\n",
    "        A=np.random.rand(1,self.nInX)\n",
    "\n",
    "        for k in range(self.nTrain_rep):\n",
    "\n",
    "            yk=self.zT_rep[k]\n",
    "            zk=self.g(self.alpha,np.dot(A,self.xT_rep[k]))\n",
    "            \n",
    "            while((zk-yk)**2 > tol):\n",
    "                \n",
    "                delA=2*self.alpha*(zk-yk)*zk*(1.-zk)*self.xT_rep[k]\n",
    "                A-=eta*delA\n",
    "                zk=self.g(self.alpha,np.dot(A,self.xT_rep[k]))        \n",
    "\n",
    "        return A\n",
    "    \n",
    "    def g(self,alpha,x):\n",
    "        '''Sigmoid Nonlinear function'''\n",
    "        return 1/(1+np.exp(-alpha*x))\n",
    "    \n",
    "    def apply(self,x):\n",
    "        '''Apply the nerual net to some x'''\n",
    "        return self.g(self.alpha,np.dot(self.A,np.array(x)))\n",
    "    \n",
    "    \n",
    "    def new_data_set(self,nData):\n",
    "        '''Test our model on a new set of data'''\n",
    "        xT=[]\n",
    "        zT=[]\n",
    "        resid=[]\n",
    "        for t in range(nData):\n",
    "            x=np.random.choice(self.num_set,10)\n",
    "            resid.append(self.apply(list(np.array(x)-0.5))-x[9])\n",
    "            \n",
    "        return resid\n",
    "    "
   ]
  },
  {
   "cell_type": "code",
   "execution_count": 11,
   "metadata": {},
   "outputs": [],
   "source": [
    "# Set up and train the neural network \n",
    "nn=NerualNetTenth()"
   ]
  },
  {
   "cell_type": "code",
   "execution_count": 12,
   "metadata": {},
   "outputs": [
    {
     "data": {
      "image/png": "[encoded data removed]",
      "text/plain": [
       "<Figure size 360x360 with 1 Axes>"
      ]
     },
     "metadata": {
      "needs_background": "light"
     },
     "output_type": "display_data"
    }
   ],
   "source": [
    "# Test to see that the training was perfomed correctly by plotting the residuals of the training set\n",
    "fig,ax=plt.subplots(figsize=(5,5))\n",
    "\n",
    "ax.plot(nn.resid,'+',Markersize=10)\n",
    "ax.set_xlabel('Trial data')\n",
    "ax.set_ylabel('Residual')\n",
    "\n",
    "plt.savefig('train_resid.pdf',bbox_inches='tight')\n",
    "plt.show()"
   ]
  },
  {
   "cell_type": "code",
   "execution_count": 13,
   "metadata": {},
   "outputs": [
    {
     "name": "stdout",
     "output_type": "stream",
     "text": [
      "[[ 0.24 -0.43 -0.19  0.28  0.39  0.1   0.07 -0.01  0.15  4.96]]\n"
     ]
    }
   ],
   "source": [
    "# Print out the A matrix\n",
    "np.set_printoptions(precision=2)\n",
    "print(nn.A)"
   ]
  },
  {
   "cell_type": "code",
   "execution_count": 14,
   "metadata": {},
   "outputs": [
    {
     "data": {
      "image/png": "[encoded data removed]",
      "text/plain": [
       "<Figure size 360x360 with 1 Axes>"
      ]
     },
     "metadata": {
      "needs_background": "light"
     },
     "output_type": "display_data"
    }
   ],
   "source": [
    "# Test on a new set of data\n",
    "resid=nn.new_data_set(100)\n",
    "\n",
    "fig,ax=plt.subplots(figsize=(5,5))\n",
    "\n",
    "ax.plot(resid,'+',Markersize=10)\n",
    "ax.set_xlabel('Trial data')\n",
    "ax.set_ylabel('Residual')\n",
    "\n",
    "plt.savefig('data_resid.pdf',bbox_inches='tight')\n",
    "plt.show()    \n"
   ]
  },
  {
   "cell_type": "code",
   "execution_count": null,
   "metadata": {},
   "outputs": [],
   "source": []
  }
 ],
 "metadata": {
  "kernelspec": {
   "display_name": "Python 3",
   "language": "python",
   "name": "python3"
  },
  "language_info": {
   "codemirror_mode": {
    "name": "ipython",
    "version": 3
   },
   "file_extension": ".py",
   "mimetype": "text/x-python",
   "name": "python",
   "nbconvert_exporter": "python",
   "pygments_lexer": "ipython3",
   "version": "3.7.4"
  }
 },
 "nbformat": 4,
 "nbformat_minor": 2
}
