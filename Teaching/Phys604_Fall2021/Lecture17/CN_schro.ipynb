{
 "cells": [
  {
   "cell_type": "code",
   "execution_count": null,
   "metadata": {},
   "outputs": [],
   "source": [
    "# Imports\n",
    "import numpy as np\n",
    "from scipy.sparse import diags\n",
    "import matplotlib.pyplot as plt\n",
    "from mpl_toolkits import mplot3d\n",
    "from matplotlib.animation import FuncAnimation"
   ]
  },
  {
   "cell_type": "code",
   "execution_count": null,
   "metadata": {},
   "outputs": [],
   "source": [
    "def cn_schro(tau,N,L,tMax,psi0):\n",
    "    '''Function to solve the Shrodinger equation with the Crank Nicolson method'''\n",
    "    hbar=1. # Natural units\n",
    "    m=1. # Natural units\n",
    "    h=L/N\n",
    "    \n",
    "    # Setup the Hamiltonian\n",
    "    coeff=-hbar**2/(2.*m*h**2)\n",
    "    H=diags([coeff,-2*coeff,coeff],[-1,0,1],shape=(N,N)).toarray()\n",
    "    H[0,-1]=coeff # For PBCs\n",
    "    H[-1,0]=coeff # Fot PBCs\n",
    "    H=H*(1j*tau/(2*hbar))\n",
    "    I=np.identity(N)\n",
    "    \n",
    "    # Crank-Nicolson matrix\n",
    "    CN=np.dot(np.linalg.inv(I+H),(I-H))\n",
    "    \n",
    "    # Initialize wavefunction\n",
    "    psi=np.zeros((tMax,N),dtype='complex')\n",
    "    psi[0,:]=psi0\n",
    "    \n",
    "    # Propagate psi\n",
    "    for n in range(tMax-1):\n",
    "        psi[n+1,:]=np.dot(CN,psi[n,:])\n",
    "\n",
    "    return psi\n",
    "\n",
    "def wave_packet(x,k0,x0,sig0):\n",
    "    '''Function for wavepacket'''\n",
    "    coeff=1./(np.sqrt(sig0*np.sqrt(np.pi)))\n",
    "    return coeff*np.exp(1j*k0*x)*np.exp(-(x-x0)**2/(2*sig0**2))"
   ]
  },
  {
   "cell_type": "code",
   "execution_count": null,
   "metadata": {},
   "outputs": [],
   "source": [
    "# Enable interactive plot\n",
    "%matplotlib notebook\n",
    "\n",
    "# Parameters \n",
    "tau=1\n",
    "N=30\n",
    "L=100.\n",
    "velocity=0.5\n",
    "tMax=int(np.ceil(L/(velocity*tau)))+1 # One period so should come back to itself\n",
    "\n",
    "# Initialize wavefunction\n",
    "hbar=1.\n",
    "mass=1.\n",
    "x0=L/2.\n",
    "k0=mass*velocity/hbar\n",
    "sig0=L/10\n",
    "x=np.linspace(0,L,N)\n",
    "psi0=wave_packet(x,k0,x0,sig0)\n",
    "\n",
    "# Solve for psi up to tMax\n",
    "psi=cn_schro(tau,N,L,tMax,psi0)\n",
    "\n",
    "# Make an animated plot\n",
    "fig1,ax1=plt.subplots(figsize=(10,5))\n",
    "line,=ax1.plot(x,psi[0,:].real,'r:')\n",
    "ax1.set_ylim(-0.2,0.2)\n",
    "\n",
    "rate=3\n",
    "def animate(i):\n",
    "    ax1.clear()\n",
    "    ax1.set_ylim(-0.2,0.2)\n",
    "    ax1.plot(x,psi[i*rate,:].real,'r')\n",
    "    ax1.plot(x,psi[i*rate,:].imag,'b')\n",
    "    ax1.plot(x,psi[0,:].real,'r:')\n",
    "    ax1.plot(x,psi[0,:].imag,'b:')\n",
    "    return line,\n",
    "\n",
    "anim = FuncAnimation(fig1, animate, frames=int(tMax/rate), interval=1,repeat=False,blit=True)\n",
    "\n",
    "\n",
    "plt.show()"
   ]
  },
  {
   "cell_type": "code",
   "execution_count": null,
   "metadata": {},
   "outputs": [],
   "source": [
    "# Make an animated plot of probability density\n",
    "fig1,ax1=plt.subplots(figsize=(10,5))\n",
    "line,=ax1.plot(x,np.abs(psi[0,:]),'r')\n",
    "ax1.set_ylim(0,0.3)\n",
    "\n",
    "rate=3\n",
    "def animate(i):\n",
    "    ax1.clear()\n",
    "    ax1.set_ylim(0,0.3)\n",
    "    ax1.plot(x,np.abs(psi[i*rate,:]),'r')\n",
    "    ax1.plot(x,np.abs(psi[0,:]),'r:')\n",
    "    return line,\n",
    "\n",
    "anim = FuncAnimation(fig1, animate, frames=int(tMax/rate), interval=1,repeat=False,blit=True)\n",
    "\n",
    "\n",
    "plt.show()"
   ]
  },
  {
   "cell_type": "code",
   "execution_count": null,
   "metadata": {},
   "outputs": [],
   "source": []
  },
  {
   "cell_type": "code",
   "execution_count": null,
   "metadata": {},
   "outputs": [],
   "source": []
  },
  {
   "cell_type": "code",
   "execution_count": null,
   "metadata": {},
   "outputs": [],
   "source": []
  },
  {
   "cell_type": "code",
   "execution_count": null,
   "metadata": {},
   "outputs": [],
   "source": []
  },
  {
   "cell_type": "code",
   "execution_count": null,
   "metadata": {},
   "outputs": [],
   "source": []
  }
 ],
 "metadata": {
  "kernelspec": {
   "display_name": "Python 3",
   "language": "python",
   "name": "python3"
  },
  "language_info": {
   "codemirror_mode": {
    "name": "ipython",
    "version": 3
   },
   "file_extension": ".py",
   "mimetype": "text/x-python",
   "name": "python",
   "nbconvert_exporter": "python",
   "pygments_lexer": "ipython3",
   "version": "3.7.4"
  }
 },
 "nbformat": 4,
 "nbformat_minor": 2
}
